{
 "cells": [
  {
   "cell_type": "markdown",
   "id": "aed8bc9c-6a9b-40b7-b66f-339bacd6b1e4",
   "metadata": {},
   "source": [
    "# **ASSIGNMENT: BUILD A REGRESSION MODEL WITH KERAS**"
   ]
  },
  {
   "cell_type": "markdown",
   "id": "68d27c40-6d2c-46c3-a001-ab7b6b4091de",
   "metadata": {
    "tags": []
   },
   "source": [
    "## **Assignment Topic:** Build a regression model using the Keras library to model the data about concrete compressive strength.\n"
   ]
  },
  {
   "cell_type": "markdown",
   "id": "768729f5-300b-4510-8984-dc45e420212e",
   "metadata": {},
   "source": [
    "### **Download and Clean the Dataset**"
   ]
  },
  {
   "cell_type": "code",
   "execution_count": 2,
   "id": "334048cc-912b-4a68-884b-1b71dabb7fe0",
   "metadata": {
    "tags": []
   },
   "outputs": [
    {
     "data": {
      "text/html": [
       "<div>\n",
       "<style scoped>\n",
       "    .dataframe tbody tr th:only-of-type {\n",
       "        vertical-align: middle;\n",
       "    }\n",
       "\n",
       "    .dataframe tbody tr th {\n",
       "        vertical-align: top;\n",
       "    }\n",
       "\n",
       "    .dataframe thead th {\n",
       "        text-align: right;\n",
       "    }\n",
       "</style>\n",
       "<table border=\"1\" class=\"dataframe\">\n",
       "  <thead>\n",
       "    <tr style=\"text-align: right;\">\n",
       "      <th></th>\n",
       "      <th>Cement</th>\n",
       "      <th>Blast Furnace Slag</th>\n",
       "      <th>Fly Ash</th>\n",
       "      <th>Water</th>\n",
       "      <th>Superplasticizer</th>\n",
       "      <th>Coarse Aggregate</th>\n",
       "      <th>Fine Aggregate</th>\n",
       "      <th>Age</th>\n",
       "      <th>Strength</th>\n",
       "    </tr>\n",
       "  </thead>\n",
       "  <tbody>\n",
       "    <tr>\n",
       "      <th>0</th>\n",
       "      <td>540.0</td>\n",
       "      <td>0.0</td>\n",
       "      <td>0.0</td>\n",
       "      <td>162.0</td>\n",
       "      <td>2.5</td>\n",
       "      <td>1040.0</td>\n",
       "      <td>676.0</td>\n",
       "      <td>28</td>\n",
       "      <td>79.99</td>\n",
       "    </tr>\n",
       "    <tr>\n",
       "      <th>1</th>\n",
       "      <td>540.0</td>\n",
       "      <td>0.0</td>\n",
       "      <td>0.0</td>\n",
       "      <td>162.0</td>\n",
       "      <td>2.5</td>\n",
       "      <td>1055.0</td>\n",
       "      <td>676.0</td>\n",
       "      <td>28</td>\n",
       "      <td>61.89</td>\n",
       "    </tr>\n",
       "    <tr>\n",
       "      <th>2</th>\n",
       "      <td>332.5</td>\n",
       "      <td>142.5</td>\n",
       "      <td>0.0</td>\n",
       "      <td>228.0</td>\n",
       "      <td>0.0</td>\n",
       "      <td>932.0</td>\n",
       "      <td>594.0</td>\n",
       "      <td>270</td>\n",
       "      <td>40.27</td>\n",
       "    </tr>\n",
       "    <tr>\n",
       "      <th>3</th>\n",
       "      <td>332.5</td>\n",
       "      <td>142.5</td>\n",
       "      <td>0.0</td>\n",
       "      <td>228.0</td>\n",
       "      <td>0.0</td>\n",
       "      <td>932.0</td>\n",
       "      <td>594.0</td>\n",
       "      <td>365</td>\n",
       "      <td>41.05</td>\n",
       "    </tr>\n",
       "    <tr>\n",
       "      <th>4</th>\n",
       "      <td>198.6</td>\n",
       "      <td>132.4</td>\n",
       "      <td>0.0</td>\n",
       "      <td>192.0</td>\n",
       "      <td>0.0</td>\n",
       "      <td>978.4</td>\n",
       "      <td>825.5</td>\n",
       "      <td>360</td>\n",
       "      <td>44.30</td>\n",
       "    </tr>\n",
       "  </tbody>\n",
       "</table>\n",
       "</div>"
      ],
      "text/plain": [
       "   Cement  Blast Furnace Slag  Fly Ash  Water  Superplasticizer  \\\n",
       "0   540.0                 0.0      0.0  162.0               2.5   \n",
       "1   540.0                 0.0      0.0  162.0               2.5   \n",
       "2   332.5               142.5      0.0  228.0               0.0   \n",
       "3   332.5               142.5      0.0  228.0               0.0   \n",
       "4   198.6               132.4      0.0  192.0               0.0   \n",
       "\n",
       "   Coarse Aggregate  Fine Aggregate  Age  Strength  \n",
       "0            1040.0           676.0   28     79.99  \n",
       "1            1055.0           676.0   28     61.89  \n",
       "2             932.0           594.0  270     40.27  \n",
       "3             932.0           594.0  365     41.05  \n",
       "4             978.4           825.5  360     44.30  "
      ]
     },
     "execution_count": 2,
     "metadata": {},
     "output_type": "execute_result"
    }
   ],
   "source": [
    "import pandas as pd\n",
    "import numpy as np\n",
    "\n",
    "# read data\n",
    "concrete_data = pd.read_csv('https://cocl.us/concrete_data')\n",
    "concrete_data.head()"
   ]
  },
  {
   "cell_type": "code",
   "execution_count": 3,
   "id": "a221cdf4-9b4c-42fa-8791-710f76d0d8db",
   "metadata": {
    "tags": []
   },
   "outputs": [
    {
     "data": {
      "text/plain": [
       "(1030, 9)"
      ]
     },
     "execution_count": 3,
     "metadata": {},
     "output_type": "execute_result"
    }
   ],
   "source": [
    "# number of datapoints\n",
    "concrete_data.shape"
   ]
  },
  {
   "cell_type": "code",
   "execution_count": 4,
   "id": "c7adcfa3-62f6-4a06-a109-074155f3746e",
   "metadata": {
    "tags": []
   },
   "outputs": [
    {
     "data": {
      "text/html": [
       "<div>\n",
       "<style scoped>\n",
       "    .dataframe tbody tr th:only-of-type {\n",
       "        vertical-align: middle;\n",
       "    }\n",
       "\n",
       "    .dataframe tbody tr th {\n",
       "        vertical-align: top;\n",
       "    }\n",
       "\n",
       "    .dataframe thead th {\n",
       "        text-align: right;\n",
       "    }\n",
       "</style>\n",
       "<table border=\"1\" class=\"dataframe\">\n",
       "  <thead>\n",
       "    <tr style=\"text-align: right;\">\n",
       "      <th></th>\n",
       "      <th>Cement</th>\n",
       "      <th>Blast Furnace Slag</th>\n",
       "      <th>Fly Ash</th>\n",
       "      <th>Water</th>\n",
       "      <th>Superplasticizer</th>\n",
       "      <th>Coarse Aggregate</th>\n",
       "      <th>Fine Aggregate</th>\n",
       "      <th>Age</th>\n",
       "      <th>Strength</th>\n",
       "    </tr>\n",
       "  </thead>\n",
       "  <tbody>\n",
       "    <tr>\n",
       "      <th>count</th>\n",
       "      <td>1030.000000</td>\n",
       "      <td>1030.000000</td>\n",
       "      <td>1030.000000</td>\n",
       "      <td>1030.000000</td>\n",
       "      <td>1030.000000</td>\n",
       "      <td>1030.000000</td>\n",
       "      <td>1030.000000</td>\n",
       "      <td>1030.000000</td>\n",
       "      <td>1030.000000</td>\n",
       "    </tr>\n",
       "    <tr>\n",
       "      <th>mean</th>\n",
       "      <td>281.167864</td>\n",
       "      <td>73.895825</td>\n",
       "      <td>54.188350</td>\n",
       "      <td>181.567282</td>\n",
       "      <td>6.204660</td>\n",
       "      <td>972.918932</td>\n",
       "      <td>773.580485</td>\n",
       "      <td>45.662136</td>\n",
       "      <td>35.817961</td>\n",
       "    </tr>\n",
       "    <tr>\n",
       "      <th>std</th>\n",
       "      <td>104.506364</td>\n",
       "      <td>86.279342</td>\n",
       "      <td>63.997004</td>\n",
       "      <td>21.354219</td>\n",
       "      <td>5.973841</td>\n",
       "      <td>77.753954</td>\n",
       "      <td>80.175980</td>\n",
       "      <td>63.169912</td>\n",
       "      <td>16.705742</td>\n",
       "    </tr>\n",
       "    <tr>\n",
       "      <th>min</th>\n",
       "      <td>102.000000</td>\n",
       "      <td>0.000000</td>\n",
       "      <td>0.000000</td>\n",
       "      <td>121.800000</td>\n",
       "      <td>0.000000</td>\n",
       "      <td>801.000000</td>\n",
       "      <td>594.000000</td>\n",
       "      <td>1.000000</td>\n",
       "      <td>2.330000</td>\n",
       "    </tr>\n",
       "    <tr>\n",
       "      <th>25%</th>\n",
       "      <td>192.375000</td>\n",
       "      <td>0.000000</td>\n",
       "      <td>0.000000</td>\n",
       "      <td>164.900000</td>\n",
       "      <td>0.000000</td>\n",
       "      <td>932.000000</td>\n",
       "      <td>730.950000</td>\n",
       "      <td>7.000000</td>\n",
       "      <td>23.710000</td>\n",
       "    </tr>\n",
       "    <tr>\n",
       "      <th>50%</th>\n",
       "      <td>272.900000</td>\n",
       "      <td>22.000000</td>\n",
       "      <td>0.000000</td>\n",
       "      <td>185.000000</td>\n",
       "      <td>6.400000</td>\n",
       "      <td>968.000000</td>\n",
       "      <td>779.500000</td>\n",
       "      <td>28.000000</td>\n",
       "      <td>34.445000</td>\n",
       "    </tr>\n",
       "    <tr>\n",
       "      <th>75%</th>\n",
       "      <td>350.000000</td>\n",
       "      <td>142.950000</td>\n",
       "      <td>118.300000</td>\n",
       "      <td>192.000000</td>\n",
       "      <td>10.200000</td>\n",
       "      <td>1029.400000</td>\n",
       "      <td>824.000000</td>\n",
       "      <td>56.000000</td>\n",
       "      <td>46.135000</td>\n",
       "    </tr>\n",
       "    <tr>\n",
       "      <th>max</th>\n",
       "      <td>540.000000</td>\n",
       "      <td>359.400000</td>\n",
       "      <td>200.100000</td>\n",
       "      <td>247.000000</td>\n",
       "      <td>32.200000</td>\n",
       "      <td>1145.000000</td>\n",
       "      <td>992.600000</td>\n",
       "      <td>365.000000</td>\n",
       "      <td>82.600000</td>\n",
       "    </tr>\n",
       "  </tbody>\n",
       "</table>\n",
       "</div>"
      ],
      "text/plain": [
       "            Cement  Blast Furnace Slag      Fly Ash        Water  \\\n",
       "count  1030.000000         1030.000000  1030.000000  1030.000000   \n",
       "mean    281.167864           73.895825    54.188350   181.567282   \n",
       "std     104.506364           86.279342    63.997004    21.354219   \n",
       "min     102.000000            0.000000     0.000000   121.800000   \n",
       "25%     192.375000            0.000000     0.000000   164.900000   \n",
       "50%     272.900000           22.000000     0.000000   185.000000   \n",
       "75%     350.000000          142.950000   118.300000   192.000000   \n",
       "max     540.000000          359.400000   200.100000   247.000000   \n",
       "\n",
       "       Superplasticizer  Coarse Aggregate  Fine Aggregate          Age  \\\n",
       "count       1030.000000       1030.000000     1030.000000  1030.000000   \n",
       "mean           6.204660        972.918932      773.580485    45.662136   \n",
       "std            5.973841         77.753954       80.175980    63.169912   \n",
       "min            0.000000        801.000000      594.000000     1.000000   \n",
       "25%            0.000000        932.000000      730.950000     7.000000   \n",
       "50%            6.400000        968.000000      779.500000    28.000000   \n",
       "75%           10.200000       1029.400000      824.000000    56.000000   \n",
       "max           32.200000       1145.000000      992.600000   365.000000   \n",
       "\n",
       "          Strength  \n",
       "count  1030.000000  \n",
       "mean     35.817961  \n",
       "std      16.705742  \n",
       "min       2.330000  \n",
       "25%      23.710000  \n",
       "50%      34.445000  \n",
       "75%      46.135000  \n",
       "max      82.600000  "
      ]
     },
     "execution_count": 4,
     "metadata": {},
     "output_type": "execute_result"
    }
   ],
   "source": [
    "# check for missing values\n",
    "concrete_data.describe()"
   ]
  },
  {
   "cell_type": "code",
   "execution_count": 5,
   "id": "9c2108e8-15b2-419b-95f0-d57fa8225791",
   "metadata": {
    "tags": []
   },
   "outputs": [
    {
     "data": {
      "text/plain": [
       "Cement                0\n",
       "Blast Furnace Slag    0\n",
       "Fly Ash               0\n",
       "Water                 0\n",
       "Superplasticizer      0\n",
       "Coarse Aggregate      0\n",
       "Fine Aggregate        0\n",
       "Age                   0\n",
       "Strength              0\n",
       "dtype: int64"
      ]
     },
     "execution_count": 5,
     "metadata": {},
     "output_type": "execute_result"
    }
   ],
   "source": [
    "#check for null values\n",
    "concrete_data.isnull().sum()"
   ]
  },
  {
   "cell_type": "code",
   "execution_count": 6,
   "id": "8d753794-bbe4-4db5-9586-2277510dedd4",
   "metadata": {
    "tags": []
   },
   "outputs": [
    {
     "data": {
      "text/html": [
       "<div>\n",
       "<style scoped>\n",
       "    .dataframe tbody tr th:only-of-type {\n",
       "        vertical-align: middle;\n",
       "    }\n",
       "\n",
       "    .dataframe tbody tr th {\n",
       "        vertical-align: top;\n",
       "    }\n",
       "\n",
       "    .dataframe thead th {\n",
       "        text-align: right;\n",
       "    }\n",
       "</style>\n",
       "<table border=\"1\" class=\"dataframe\">\n",
       "  <thead>\n",
       "    <tr style=\"text-align: right;\">\n",
       "      <th></th>\n",
       "      <th>Cement</th>\n",
       "      <th>Blast Furnace Slag</th>\n",
       "      <th>Fly Ash</th>\n",
       "      <th>Water</th>\n",
       "      <th>Superplasticizer</th>\n",
       "      <th>Coarse Aggregate</th>\n",
       "      <th>Fine Aggregate</th>\n",
       "      <th>Age</th>\n",
       "    </tr>\n",
       "  </thead>\n",
       "  <tbody>\n",
       "    <tr>\n",
       "      <th>0</th>\n",
       "      <td>540.0</td>\n",
       "      <td>0.0</td>\n",
       "      <td>0.0</td>\n",
       "      <td>162.0</td>\n",
       "      <td>2.5</td>\n",
       "      <td>1040.0</td>\n",
       "      <td>676.0</td>\n",
       "      <td>28</td>\n",
       "    </tr>\n",
       "    <tr>\n",
       "      <th>1</th>\n",
       "      <td>540.0</td>\n",
       "      <td>0.0</td>\n",
       "      <td>0.0</td>\n",
       "      <td>162.0</td>\n",
       "      <td>2.5</td>\n",
       "      <td>1055.0</td>\n",
       "      <td>676.0</td>\n",
       "      <td>28</td>\n",
       "    </tr>\n",
       "    <tr>\n",
       "      <th>2</th>\n",
       "      <td>332.5</td>\n",
       "      <td>142.5</td>\n",
       "      <td>0.0</td>\n",
       "      <td>228.0</td>\n",
       "      <td>0.0</td>\n",
       "      <td>932.0</td>\n",
       "      <td>594.0</td>\n",
       "      <td>270</td>\n",
       "    </tr>\n",
       "    <tr>\n",
       "      <th>3</th>\n",
       "      <td>332.5</td>\n",
       "      <td>142.5</td>\n",
       "      <td>0.0</td>\n",
       "      <td>228.0</td>\n",
       "      <td>0.0</td>\n",
       "      <td>932.0</td>\n",
       "      <td>594.0</td>\n",
       "      <td>365</td>\n",
       "    </tr>\n",
       "    <tr>\n",
       "      <th>4</th>\n",
       "      <td>198.6</td>\n",
       "      <td>132.4</td>\n",
       "      <td>0.0</td>\n",
       "      <td>192.0</td>\n",
       "      <td>0.0</td>\n",
       "      <td>978.4</td>\n",
       "      <td>825.5</td>\n",
       "      <td>360</td>\n",
       "    </tr>\n",
       "  </tbody>\n",
       "</table>\n",
       "</div>"
      ],
      "text/plain": [
       "   Cement  Blast Furnace Slag  Fly Ash  Water  Superplasticizer  \\\n",
       "0   540.0                 0.0      0.0  162.0               2.5   \n",
       "1   540.0                 0.0      0.0  162.0               2.5   \n",
       "2   332.5               142.5      0.0  228.0               0.0   \n",
       "3   332.5               142.5      0.0  228.0               0.0   \n",
       "4   198.6               132.4      0.0  192.0               0.0   \n",
       "\n",
       "   Coarse Aggregate  Fine Aggregate  Age  \n",
       "0            1040.0           676.0   28  \n",
       "1            1055.0           676.0   28  \n",
       "2             932.0           594.0  270  \n",
       "3             932.0           594.0  365  \n",
       "4             978.4           825.5  360  "
      ]
     },
     "execution_count": 6,
     "metadata": {},
     "output_type": "execute_result"
    }
   ],
   "source": [
    "# split dataset into predictors and target\n",
    "predictors = concrete_data.drop('Strength', axis=1)\n",
    "predictors.head()"
   ]
  },
  {
   "cell_type": "code",
   "execution_count": 7,
   "id": "7bb71dfd-6503-4891-96dd-f3c9059d8882",
   "metadata": {
    "tags": []
   },
   "outputs": [
    {
     "data": {
      "text/plain": [
       "0    79.99\n",
       "1    61.89\n",
       "2    40.27\n",
       "3    41.05\n",
       "4    44.30\n",
       "Name: Strength, dtype: float64"
      ]
     },
     "execution_count": 7,
     "metadata": {},
     "output_type": "execute_result"
    }
   ],
   "source": [
    "# target\n",
    "target = concrete_data['Strength']\n",
    "target.head()"
   ]
  },
  {
   "cell_type": "markdown",
   "id": "0993e9f4-67b1-49bd-92bc-8394d0ae954b",
   "metadata": {},
   "source": [
    "## **A :  Build a baseline model**\n",
    "\n",
    "Use the Keras library to build a neural network with the following:\n",
    "\n",
    "- One hidden layer of 10 nodes, and a ReLU activation function\n",
    "\n",
    "- Use the adam optimizer and the mean squared error  as the loss function.\n",
    "\n",
    "1. Randomly split the data into a training and test sets by holding 30% of the data for testing. \n",
    "\n",
    "2. Train the model on the training data using 50 epochs.\n",
    "\n",
    "3. Evaluate the model on the test data and compute the mean squared error between the predicted concrete strength and the actual concrete strength. You can use the mean_squared_error function from Scikit-learn.\n",
    "\n",
    "4. Repeat steps 1 - 3, 50 times, i.e., create a list of 50 mean squared errors.\n",
    "\n",
    "5. Report the mean and the standard deviation of the mean squared errors."
   ]
  },
  {
   "cell_type": "code",
   "execution_count": 8,
   "id": "ca505cab-52c3-416c-9c38-bffef4c67900",
   "metadata": {
    "tags": []
   },
   "outputs": [
    {
     "name": "stderr",
     "output_type": "stream",
     "text": [
      "2024-01-31 21:56:24.490279: I external/local_tsl/tsl/cuda/cudart_stub.cc:31] Could not find cuda drivers on your machine, GPU will not be used.\n",
      "2024-01-31 21:56:24.520083: E external/local_xla/xla/stream_executor/cuda/cuda_dnn.cc:9261] Unable to register cuDNN factory: Attempting to register factory for plugin cuDNN when one has already been registered\n",
      "2024-01-31 21:56:24.520105: E external/local_xla/xla/stream_executor/cuda/cuda_fft.cc:607] Unable to register cuFFT factory: Attempting to register factory for plugin cuFFT when one has already been registered\n",
      "2024-01-31 21:56:24.520783: E external/local_xla/xla/stream_executor/cuda/cuda_blas.cc:1515] Unable to register cuBLAS factory: Attempting to register factory for plugin cuBLAS when one has already been registered\n",
      "2024-01-31 21:56:24.524856: I external/local_tsl/tsl/cuda/cudart_stub.cc:31] Could not find cuda drivers on your machine, GPU will not be used.\n",
      "2024-01-31 21:56:24.525193: I tensorflow/core/platform/cpu_feature_guard.cc:182] This TensorFlow binary is optimized to use available CPU instructions in performance-critical operations.\n",
      "To enable the following instructions: AVX2 FMA, in other operations, rebuild TensorFlow with the appropriate compiler flags.\n",
      "2024-01-31 21:56:25.089321: W tensorflow/compiler/tf2tensorrt/utils/py_utils.cc:38] TF-TRT Warning: Could not find TensorRT\n"
     ]
    }
   ],
   "source": [
    "# Import required libraries\n",
    "\n",
    "import keras\n",
    "from keras.models import Sequential\n",
    "from keras.layers import Dense\n",
    "\n",
    "\n",
    "from sklearn.model_selection import train_test_split\n",
    "from sklearn.metrics import mean_squared_error"
   ]
  },
  {
   "cell_type": "markdown",
   "id": "475b7e9d-babd-457e-9508-c4b9e17b784d",
   "metadata": {},
   "source": [
    "### Build a Neural network with one hidden layer of 10 nodes and ReLU activation function."
   ]
  },
  {
   "cell_type": "code",
   "execution_count": 9,
   "id": "d57ea711-b030-4ee7-9097-1227c443f5a7",
   "metadata": {
    "tags": []
   },
   "outputs": [],
   "source": [
    "# Build Neural network with one hidden layer of 10 nodes\n",
    "def regression_model():\n",
    "    model = Sequential()\n",
    "\n",
    "    # number of columns \n",
    "    n_cols = predictors.shape[1]\n",
    "\n",
    "    # Hidden layer\n",
    "    model.add(Dense(10, activation='relu', input_shape=(n_cols,)))\n",
    "\n",
    "    # Output layer\n",
    "    model.add(Dense(1))\n",
    "\n",
    "    #compile model\n",
    "    model.compile(optimizer='adam', loss='mean_squared_error')\n",
    "    return model\n"
   ]
  },
  {
   "cell_type": "markdown",
   "id": "189fc05d-316e-4193-9580-05165de4d853",
   "metadata": {},
   "source": [
    "### 1.Randomly split the data into a training and test sets by holding 30% of the data for testing."
   ]
  },
  {
   "cell_type": "code",
   "execution_count": 10,
   "id": "36aec914-cfe3-4ba9-a941-99a49b20335a",
   "metadata": {
    "tags": []
   },
   "outputs": [
    {
     "name": "stdout",
     "output_type": "stream",
     "text": [
      "Shape of X_train : (721, 8), Shape of X_test: (309, 8)\n",
      "Shape of y_train: (721,), Shape of y_test: (309,)\n"
     ]
    }
   ],
   "source": [
    "# Set random seed\n",
    "np.random.seed(42)\n",
    "\n",
    "# Split data to training and test sets\n",
    "X_train, X_test, y_train, y_test = train_test_split(predictors, target, test_size=0.3, random_state=2)\n",
    "\n",
    "print(f\"Shape of X_train : {X_train.shape}, Shape of X_test: {X_test.shape}\")\n",
    "print(f\"Shape of y_train: {y_train.shape}, Shape of y_test: {y_test.shape}\")"
   ]
  },
  {
   "cell_type": "markdown",
   "id": "8727e59a-b71b-41c1-84f8-8c10353e47e7",
   "metadata": {},
   "source": [
    "### 2. Train the model on the training data using 50 epochs."
   ]
  },
  {
   "cell_type": "code",
   "execution_count": 11,
   "id": "1b16616c-c971-44df-8595-e77c82a16e61",
   "metadata": {
    "tags": []
   },
   "outputs": [
    {
     "name": "stdout",
     "output_type": "stream",
     "text": [
      "Epoch 1/50\n"
     ]
    },
    {
     "name": "stderr",
     "output_type": "stream",
     "text": [
      "2024-01-31 21:56:25.857904: I external/local_xla/xla/stream_executor/cuda/cuda_executor.cc:901] successful NUMA node read from SysFS had negative value (-1), but there must be at least one NUMA node, so returning NUMA node zero. See more at https://github.com/torvalds/linux/blob/v6.0/Documentation/ABI/testing/sysfs-bus-pci#L344-L355\n",
      "2024-01-31 21:56:25.858298: W tensorflow/core/common_runtime/gpu/gpu_device.cc:2256] Cannot dlopen some GPU libraries. Please make sure the missing libraries mentioned above are installed properly if you would like to use GPU. Follow the guide at https://www.tensorflow.org/install/gpu for how to download and setup the required libraries for your platform.\n",
      "Skipping registering GPU devices...\n"
     ]
    },
    {
     "name": "stdout",
     "output_type": "stream",
     "text": [
      "16/16 - 0s - loss: 130324.5781 - val_loss: 74441.3516 - 372ms/epoch - 23ms/step\n",
      "Epoch 2/50\n",
      "16/16 - 0s - loss: 55848.6562 - val_loss: 30462.9531 - 30ms/epoch - 2ms/step\n",
      "Epoch 3/50\n",
      "16/16 - 0s - loss: 28871.4844 - val_loss: 21282.9473 - 30ms/epoch - 2ms/step\n",
      "Epoch 4/50\n",
      "16/16 - 0s - loss: 23406.1406 - val_loss: 19511.2676 - 29ms/epoch - 2ms/step\n",
      "Epoch 5/50\n",
      "16/16 - 0s - loss: 21128.8555 - val_loss: 17405.5645 - 31ms/epoch - 2ms/step\n",
      "Epoch 6/50\n",
      "16/16 - 0s - loss: 18805.1465 - val_loss: 15425.1602 - 27ms/epoch - 2ms/step\n",
      "Epoch 7/50\n",
      "16/16 - 0s - loss: 16726.1328 - val_loss: 13739.0850 - 28ms/epoch - 2ms/step\n",
      "Epoch 8/50\n",
      "16/16 - 0s - loss: 14817.4102 - val_loss: 12171.5781 - 28ms/epoch - 2ms/step\n",
      "Epoch 9/50\n",
      "16/16 - 0s - loss: 13049.6299 - val_loss: 10771.6846 - 27ms/epoch - 2ms/step\n",
      "Epoch 10/50\n",
      "16/16 - 0s - loss: 11423.3760 - val_loss: 9459.9668 - 28ms/epoch - 2ms/step\n",
      "Epoch 11/50\n",
      "16/16 - 0s - loss: 10017.9590 - val_loss: 8193.4961 - 28ms/epoch - 2ms/step\n",
      "Epoch 12/50\n",
      "16/16 - 0s - loss: 8697.7744 - val_loss: 7168.0142 - 29ms/epoch - 2ms/step\n",
      "Epoch 13/50\n",
      "16/16 - 0s - loss: 7579.2104 - val_loss: 6373.7778 - 28ms/epoch - 2ms/step\n",
      "Epoch 14/50\n",
      "16/16 - 0s - loss: 6669.9175 - val_loss: 5564.4297 - 30ms/epoch - 2ms/step\n",
      "Epoch 15/50\n",
      "16/16 - 0s - loss: 5799.2373 - val_loss: 4981.1899 - 28ms/epoch - 2ms/step\n",
      "Epoch 16/50\n",
      "16/16 - 0s - loss: 5117.7979 - val_loss: 4436.4287 - 28ms/epoch - 2ms/step\n",
      "Epoch 17/50\n",
      "16/16 - 0s - loss: 4525.1084 - val_loss: 3988.6406 - 31ms/epoch - 2ms/step\n",
      "Epoch 18/50\n",
      "16/16 - 0s - loss: 4084.4741 - val_loss: 3638.1096 - 28ms/epoch - 2ms/step\n",
      "Epoch 19/50\n",
      "16/16 - 0s - loss: 3707.4373 - val_loss: 3314.9160 - 31ms/epoch - 2ms/step\n",
      "Epoch 20/50\n",
      "16/16 - 0s - loss: 3359.2354 - val_loss: 3023.8208 - 33ms/epoch - 2ms/step\n",
      "Epoch 21/50\n",
      "16/16 - 0s - loss: 3071.1704 - val_loss: 2760.2520 - 36ms/epoch - 2ms/step\n",
      "Epoch 22/50\n",
      "16/16 - 0s - loss: 2806.3972 - val_loss: 2538.9841 - 28ms/epoch - 2ms/step\n",
      "Epoch 23/50\n",
      "16/16 - 0s - loss: 2580.1533 - val_loss: 2345.6174 - 32ms/epoch - 2ms/step\n",
      "Epoch 24/50\n",
      "16/16 - 0s - loss: 2374.7195 - val_loss: 2186.1953 - 28ms/epoch - 2ms/step\n",
      "Epoch 25/50\n",
      "16/16 - 0s - loss: 2189.2378 - val_loss: 2005.3652 - 28ms/epoch - 2ms/step\n",
      "Epoch 26/50\n",
      "16/16 - 0s - loss: 2033.1555 - val_loss: 1855.5640 - 30ms/epoch - 2ms/step\n",
      "Epoch 27/50\n",
      "16/16 - 0s - loss: 1885.3524 - val_loss: 1743.1484 - 34ms/epoch - 2ms/step\n",
      "Epoch 28/50\n",
      "16/16 - 0s - loss: 1755.5665 - val_loss: 1615.3367 - 34ms/epoch - 2ms/step\n",
      "Epoch 29/50\n",
      "16/16 - 0s - loss: 1634.3599 - val_loss: 1510.8226 - 33ms/epoch - 2ms/step\n",
      "Epoch 30/50\n",
      "16/16 - 0s - loss: 1531.3033 - val_loss: 1415.2189 - 35ms/epoch - 2ms/step\n",
      "Epoch 31/50\n",
      "16/16 - 0s - loss: 1442.0994 - val_loss: 1336.8220 - 35ms/epoch - 2ms/step\n",
      "Epoch 32/50\n",
      "16/16 - 0s - loss: 1355.5985 - val_loss: 1257.2086 - 33ms/epoch - 2ms/step\n",
      "Epoch 33/50\n",
      "16/16 - 0s - loss: 1285.2211 - val_loss: 1187.5135 - 32ms/epoch - 2ms/step\n",
      "Epoch 34/50\n",
      "16/16 - 0s - loss: 1219.4546 - val_loss: 1127.3269 - 32ms/epoch - 2ms/step\n",
      "Epoch 35/50\n",
      "16/16 - 0s - loss: 1150.8176 - val_loss: 1070.5677 - 29ms/epoch - 2ms/step\n",
      "Epoch 36/50\n",
      "16/16 - 0s - loss: 1095.0631 - val_loss: 1025.2998 - 31ms/epoch - 2ms/step\n",
      "Epoch 37/50\n",
      "16/16 - 0s - loss: 1044.4504 - val_loss: 979.2886 - 30ms/epoch - 2ms/step\n",
      "Epoch 38/50\n",
      "16/16 - 0s - loss: 998.6277 - val_loss: 939.2479 - 31ms/epoch - 2ms/step\n",
      "Epoch 39/50\n",
      "16/16 - 0s - loss: 954.9291 - val_loss: 890.0933 - 28ms/epoch - 2ms/step\n",
      "Epoch 40/50\n",
      "16/16 - 0s - loss: 918.6173 - val_loss: 865.3588 - 29ms/epoch - 2ms/step\n",
      "Epoch 41/50\n",
      "16/16 - 0s - loss: 881.5309 - val_loss: 822.2264 - 30ms/epoch - 2ms/step\n",
      "Epoch 42/50\n",
      "16/16 - 0s - loss: 849.8721 - val_loss: 798.9402 - 29ms/epoch - 2ms/step\n",
      "Epoch 43/50\n",
      "16/16 - 0s - loss: 819.0280 - val_loss: 771.2838 - 29ms/epoch - 2ms/step\n",
      "Epoch 44/50\n",
      "16/16 - 0s - loss: 791.4312 - val_loss: 742.1522 - 30ms/epoch - 2ms/step\n",
      "Epoch 45/50\n",
      "16/16 - 0s - loss: 761.9182 - val_loss: 725.0516 - 29ms/epoch - 2ms/step\n",
      "Epoch 46/50\n",
      "16/16 - 0s - loss: 737.8716 - val_loss: 698.2333 - 27ms/epoch - 2ms/step\n",
      "Epoch 47/50\n",
      "16/16 - 0s - loss: 713.9944 - val_loss: 675.1746 - 27ms/epoch - 2ms/step\n",
      "Epoch 48/50\n",
      "16/16 - 0s - loss: 691.0620 - val_loss: 655.2615 - 29ms/epoch - 2ms/step\n",
      "Epoch 49/50\n",
      "16/16 - 0s - loss: 669.8785 - val_loss: 635.4958 - 29ms/epoch - 2ms/step\n",
      "Epoch 50/50\n",
      "16/16 - 0s - loss: 648.7010 - val_loss: 618.0404 - 32ms/epoch - 2ms/step\n"
     ]
    },
    {
     "data": {
      "text/plain": [
       "<keras.src.callbacks.History at 0x748a779475d0>"
      ]
     },
     "execution_count": 11,
     "metadata": {},
     "output_type": "execute_result"
    }
   ],
   "source": [
    "model = regression_model()\n",
    "\n",
    "#train the model using 50 epochs\n",
    "model.fit(X_train, y_train, validation_split=0.3, epochs=50, verbose=2)\n"
   ]
  },
  {
   "cell_type": "markdown",
   "id": "d769e7c3-cc36-45fc-a7cc-2c563f387906",
   "metadata": {},
   "source": [
    "### 3. Evaluate the model on the test data and compute the mean squared error between the predicted concrete strength and the actual concrete strength."
   ]
  },
  {
   "cell_type": "code",
   "execution_count": 12,
   "id": "965259e8-d447-4005-be85-0345102c8e2e",
   "metadata": {
    "tags": []
   },
   "outputs": [
    {
     "name": "stdout",
     "output_type": "stream",
     "text": [
      "10/10 [==============================] - 0s 772us/step\n",
      "Mean Squared Error: 600.5005684046172\n"
     ]
    }
   ],
   "source": [
    "# prediction\n",
    "predictions = model.predict(X_test)\n",
    "\n",
    "#calculate mean squared error\n",
    "from sklearn.metrics import mean_squared_error\n",
    "\n",
    "mse = mean_squared_error(y_test, predictions)\n",
    "print(f\"Mean Squared Error: {mse}\")"
   ]
  },
  {
   "cell_type": "markdown",
   "id": "e2a30548-8456-42b7-a524-85456ebd0e8b",
   "metadata": {},
   "source": [
    "### 4. Repeat steps 1 - 3, 50 times, i.e., create a list of 50 mean squared errors."
   ]
  },
  {
   "cell_type": "code",
   "execution_count": 13,
   "id": "6813d212-9404-4995-b2df-885b8354718b",
   "metadata": {
    "tags": []
   },
   "outputs": [
    {
     "name": "stdout",
     "output_type": "stream",
     "text": [
      "10/10 [==============================] - 0s 795us/step\n",
      "10/10 [==============================] - 0s 694us/step\n",
      "10/10 [==============================] - 0s 681us/step\n",
      "10/10 [==============================] - 0s 810us/step\n",
      "10/10 [==============================] - 0s 635us/step\n",
      "10/10 [==============================] - 0s 750us/step\n",
      "10/10 [==============================] - 0s 599us/step\n",
      "10/10 [==============================] - 0s 642us/step\n",
      "10/10 [==============================] - 0s 622us/step\n",
      "10/10 [==============================] - 0s 636us/step\n",
      "10/10 [==============================] - 0s 621us/step\n",
      "10/10 [==============================] - 0s 644us/step\n",
      "10/10 [==============================] - 0s 605us/step\n",
      "10/10 [==============================] - 0s 712us/step\n",
      "10/10 [==============================] - 0s 680us/step\n",
      "10/10 [==============================] - 0s 668us/step\n",
      "10/10 [==============================] - 0s 627us/step\n",
      "10/10 [==============================] - 0s 693us/step\n",
      "10/10 [==============================] - 0s 686us/step\n",
      "10/10 [==============================] - 0s 645us/step\n",
      "10/10 [==============================] - 0s 752us/step\n",
      "10/10 [==============================] - 0s 643us/step\n",
      "10/10 [==============================] - 0s 603us/step\n",
      "10/10 [==============================] - 0s 758us/step\n",
      "10/10 [==============================] - 0s 603us/step\n",
      "10/10 [==============================] - 0s 616us/step\n",
      "10/10 [==============================] - 0s 603us/step\n",
      "10/10 [==============================] - 0s 643us/step\n",
      "10/10 [==============================] - 0s 622us/step\n",
      "10/10 [==============================] - 0s 781us/step\n",
      "10/10 [==============================] - 0s 714us/step\n",
      "10/10 [==============================] - 0s 737us/step\n",
      "10/10 [==============================] - 0s 636us/step\n",
      "10/10 [==============================] - 0s 746us/step\n",
      "10/10 [==============================] - 0s 645us/step\n",
      "10/10 [==============================] - 0s 625us/step\n",
      "10/10 [==============================] - 0s 770us/step\n",
      "10/10 [==============================] - 0s 664us/step\n",
      "10/10 [==============================] - 0s 662us/step\n",
      "10/10 [==============================] - 0s 620us/step\n",
      "10/10 [==============================] - 0s 683us/step\n",
      "10/10 [==============================] - 0s 689us/step\n",
      "10/10 [==============================] - 0s 656us/step\n",
      "10/10 [==============================] - 0s 633us/step\n",
      "10/10 [==============================] - 0s 702us/step\n",
      "10/10 [==============================] - 0s 614us/step\n",
      "10/10 [==============================] - 0s 865us/step\n",
      "10/10 [==============================] - 0s 771us/step\n",
      "10/10 [==============================] - 0s 611us/step\n",
      "10/10 [==============================] - 0s 734us/step\n"
     ]
    }
   ],
   "source": [
    "# initialize mean squared error list\n",
    "mse_list = []\n",
    "\n",
    "# repeat 50 times and calculate mean squared error\n",
    "for i in range(50):\n",
    "    # randomly split the data to training and testing data\n",
    "    X_train, X_test, y_train, y_test = train_test_split(predictors, target, test_size=0.3, random_state=2)\n",
    "    \n",
    "    #initialise model\n",
    "    model = regression_model()\n",
    "    \n",
    "    # fit the model\n",
    "    model.fit(X_train, y_train, validation_split=0.3, epochs=50, verbose=0)\n",
    "    \n",
    "    # prediction\n",
    "    predictions = model.predict(X_test)\n",
    "\n",
    "    #calculate mean squared error\n",
    "    mse = mean_squared_error(y_test, predictions)\n",
    "    \n",
    "    mse_list.append(mse)\n",
    "\n",
    "    \n",
    "    "
   ]
  },
  {
   "cell_type": "markdown",
   "id": "8257b08c-b4c7-4f5b-bd6e-5cdbc4c5f080",
   "metadata": {},
   "source": [
    "### 5. Report the mean and the standard deviation of the mean squared errors."
   ]
  },
  {
   "cell_type": "code",
   "execution_count": 14,
   "id": "830aa91e-984b-4753-8f3c-03ed14b2dcf3",
   "metadata": {
    "tags": []
   },
   "outputs": [
    {
     "name": "stdout",
     "output_type": "stream",
     "text": [
      "Mean of Mean Squared Errors: 615.465263044772\n",
      "Standard Deviation of Mean Squared Errors: 766.0662690523781\n"
     ]
    }
   ],
   "source": [
    "#calculate mean and standard deviation of Mean Squared Errors\n",
    "mse_mean_a = np.mean(mse_list)\n",
    "mse_std_a = np.std(mse_list)\n",
    "\n",
    "print(f\"Mean of Mean Squared Errors: {mse_mean_a}\")\n",
    "print(f\"Standard Deviation of Mean Squared Errors: {mse_std_a}\")"
   ]
  },
  {
   "cell_type": "markdown",
   "id": "21e01d22-9f2d-4aca-b334-5259d53c2ab6",
   "metadata": {},
   "source": [
    "## **B. Normalize the data**\n",
    "Repeat Part A but use a normalized version of the data"
   ]
  },
  {
   "cell_type": "code",
   "execution_count": 15,
   "id": "aef12d77-941d-4887-a242-82a4c1308567",
   "metadata": {
    "tags": []
   },
   "outputs": [
    {
     "data": {
      "text/html": [
       "<div>\n",
       "<style scoped>\n",
       "    .dataframe tbody tr th:only-of-type {\n",
       "        vertical-align: middle;\n",
       "    }\n",
       "\n",
       "    .dataframe tbody tr th {\n",
       "        vertical-align: top;\n",
       "    }\n",
       "\n",
       "    .dataframe thead th {\n",
       "        text-align: right;\n",
       "    }\n",
       "</style>\n",
       "<table border=\"1\" class=\"dataframe\">\n",
       "  <thead>\n",
       "    <tr style=\"text-align: right;\">\n",
       "      <th></th>\n",
       "      <th>Cement</th>\n",
       "      <th>Blast Furnace Slag</th>\n",
       "      <th>Fly Ash</th>\n",
       "      <th>Water</th>\n",
       "      <th>Superplasticizer</th>\n",
       "      <th>Coarse Aggregate</th>\n",
       "      <th>Fine Aggregate</th>\n",
       "      <th>Age</th>\n",
       "    </tr>\n",
       "  </thead>\n",
       "  <tbody>\n",
       "    <tr>\n",
       "      <th>0</th>\n",
       "      <td>2.476712</td>\n",
       "      <td>-0.856472</td>\n",
       "      <td>-0.846733</td>\n",
       "      <td>-0.916319</td>\n",
       "      <td>-0.620147</td>\n",
       "      <td>0.862735</td>\n",
       "      <td>-1.217079</td>\n",
       "      <td>-0.279597</td>\n",
       "    </tr>\n",
       "    <tr>\n",
       "      <th>1</th>\n",
       "      <td>2.476712</td>\n",
       "      <td>-0.856472</td>\n",
       "      <td>-0.846733</td>\n",
       "      <td>-0.916319</td>\n",
       "      <td>-0.620147</td>\n",
       "      <td>1.055651</td>\n",
       "      <td>-1.217079</td>\n",
       "      <td>-0.279597</td>\n",
       "    </tr>\n",
       "    <tr>\n",
       "      <th>2</th>\n",
       "      <td>0.491187</td>\n",
       "      <td>0.795140</td>\n",
       "      <td>-0.846733</td>\n",
       "      <td>2.174405</td>\n",
       "      <td>-1.038638</td>\n",
       "      <td>-0.526262</td>\n",
       "      <td>-2.239829</td>\n",
       "      <td>3.551340</td>\n",
       "    </tr>\n",
       "    <tr>\n",
       "      <th>3</th>\n",
       "      <td>0.491187</td>\n",
       "      <td>0.795140</td>\n",
       "      <td>-0.846733</td>\n",
       "      <td>2.174405</td>\n",
       "      <td>-1.038638</td>\n",
       "      <td>-0.526262</td>\n",
       "      <td>-2.239829</td>\n",
       "      <td>5.055221</td>\n",
       "    </tr>\n",
       "    <tr>\n",
       "      <th>4</th>\n",
       "      <td>-0.790075</td>\n",
       "      <td>0.678079</td>\n",
       "      <td>-0.846733</td>\n",
       "      <td>0.488555</td>\n",
       "      <td>-1.038638</td>\n",
       "      <td>0.070492</td>\n",
       "      <td>0.647569</td>\n",
       "      <td>4.976069</td>\n",
       "    </tr>\n",
       "  </tbody>\n",
       "</table>\n",
       "</div>"
      ],
      "text/plain": [
       "     Cement  Blast Furnace Slag   Fly Ash     Water  Superplasticizer  \\\n",
       "0  2.476712           -0.856472 -0.846733 -0.916319         -0.620147   \n",
       "1  2.476712           -0.856472 -0.846733 -0.916319         -0.620147   \n",
       "2  0.491187            0.795140 -0.846733  2.174405         -1.038638   \n",
       "3  0.491187            0.795140 -0.846733  2.174405         -1.038638   \n",
       "4 -0.790075            0.678079 -0.846733  0.488555         -1.038638   \n",
       "\n",
       "   Coarse Aggregate  Fine Aggregate       Age  \n",
       "0          0.862735       -1.217079 -0.279597  \n",
       "1          1.055651       -1.217079 -0.279597  \n",
       "2         -0.526262       -2.239829  3.551340  \n",
       "3         -0.526262       -2.239829  5.055221  \n",
       "4          0.070492        0.647569  4.976069  "
      ]
     },
     "execution_count": 15,
     "metadata": {},
     "output_type": "execute_result"
    }
   ],
   "source": [
    "# Normalise data\n",
    "predictors_norm = (predictors - predictors.mean())/predictors.std()\n",
    "predictors_norm.head()"
   ]
  },
  {
   "cell_type": "code",
   "execution_count": 16,
   "id": "4a64c732-6e4a-4f30-b278-f858ce560cc0",
   "metadata": {
    "tags": []
   },
   "outputs": [
    {
     "name": "stdout",
     "output_type": "stream",
     "text": [
      "10/10 [==============================] - 0s 620us/step\n",
      "10/10 [==============================] - 0s 639us/step\n",
      "10/10 [==============================] - 0s 620us/step\n",
      "10/10 [==============================] - 0s 610us/step\n",
      "10/10 [==============================] - 0s 726us/step\n",
      "10/10 [==============================] - 0s 612us/step\n",
      "10/10 [==============================] - 0s 634us/step\n",
      "10/10 [==============================] - 0s 670us/step\n",
      "10/10 [==============================] - 0s 674us/step\n",
      "10/10 [==============================] - 0s 656us/step\n",
      "10/10 [==============================] - 0s 642us/step\n",
      "10/10 [==============================] - 0s 736us/step\n",
      "10/10 [==============================] - 0s 694us/step\n",
      "10/10 [==============================] - 0s 633us/step\n",
      "10/10 [==============================] - 0s 631us/step\n",
      "10/10 [==============================] - 0s 699us/step\n",
      "10/10 [==============================] - 0s 657us/step\n",
      "10/10 [==============================] - 0s 629us/step\n",
      "10/10 [==============================] - 0s 636us/step\n",
      "10/10 [==============================] - 0s 725us/step\n",
      "10/10 [==============================] - 0s 599us/step\n",
      "10/10 [==============================] - 0s 603us/step\n",
      "10/10 [==============================] - 0s 677us/step\n",
      "10/10 [==============================] - 0s 603us/step\n",
      "10/10 [==============================] - 0s 734us/step\n",
      "10/10 [==============================] - 0s 747us/step\n",
      "10/10 [==============================] - 0s 653us/step\n",
      "10/10 [==============================] - 0s 641us/step\n",
      "10/10 [==============================] - 0s 652us/step\n",
      "10/10 [==============================] - 0s 706us/step\n",
      "10/10 [==============================] - 0s 658us/step\n",
      "10/10 [==============================] - 0s 663us/step\n",
      "10/10 [==============================] - 0s 766us/step\n",
      "10/10 [==============================] - 0s 610us/step\n",
      "10/10 [==============================] - 0s 718us/step\n",
      "10/10 [==============================] - 0s 637us/step\n",
      "10/10 [==============================] - 0s 694us/step\n",
      "10/10 [==============================] - 0s 685us/step\n",
      "10/10 [==============================] - 0s 611us/step\n",
      "10/10 [==============================] - 0s 665us/step\n",
      "10/10 [==============================] - 0s 630us/step\n",
      "10/10 [==============================] - 0s 721us/step\n",
      "10/10 [==============================] - 0s 647us/step\n",
      "10/10 [==============================] - 0s 677us/step\n",
      "10/10 [==============================] - 0s 624us/step\n",
      "10/10 [==============================] - 0s 768us/step\n",
      "10/10 [==============================] - 0s 1ms/step\n",
      "10/10 [==============================] - 0s 601us/step\n",
      "10/10 [==============================] - 0s 639us/step\n",
      "10/10 [==============================] - 0s 634us/step\n"
     ]
    }
   ],
   "source": [
    "# initialize mean squared error list\n",
    "mse_list_b = []\n",
    "\n",
    "# repeat 50 times and calculate mean squared error\n",
    "for i in range(50):\n",
    "    # randomly split the Normalised data to training and testing data\n",
    "    X_train, X_test, y_train, y_test = train_test_split(predictors_norm, target, test_size=0.3, random_state=2)\n",
    "    \n",
    "    #initialise model\n",
    "    model = regression_model()\n",
    "    \n",
    "    # fit the model\n",
    "    model.fit(X_train, y_train, validation_split=0.3, epochs=50, verbose=0)\n",
    "    \n",
    "    # prediction\n",
    "    predictions = model.predict(X_test)\n",
    "\n",
    "    #calculate mean squared error\n",
    "    from sklearn.metrics import mean_squared_error\n",
    "    mse = mean_squared_error(y_test, predictions)\n",
    "    \n",
    "    mse_list_b.append(mse)\n"
   ]
  },
  {
   "cell_type": "markdown",
   "id": "9f430e6a-8805-4540-ab90-06440eea8581",
   "metadata": {},
   "source": [
    "### **How does the mean of the mean squared errors compare to that from Step A?**"
   ]
  },
  {
   "cell_type": "code",
   "execution_count": 17,
   "id": "ca693e99-b226-4236-b5a6-190915cdbda4",
   "metadata": {
    "tags": []
   },
   "outputs": [
    {
     "name": "stdout",
     "output_type": "stream",
     "text": [
      "Mean of MSE in step A : 615.465263044772\n",
      "Mean of MSE in step B (normalised data): 680.4988446823548\n",
      "Standard Deviation of Mean Squared Errors: 141.243309299532\n"
     ]
    }
   ],
   "source": [
    "# Mean and Standard Deviation of Mean Squared Errors\n",
    "mse_mean_b = np.mean(mse_list_b)\n",
    "mse_std_b = np.std(mse_list_b)\n",
    "\n",
    "print(f\"Mean of MSE in step A : {mse_mean_a}\")\n",
    "print(f\"Mean of MSE in step B (normalised data): {mse_mean_b}\")\n",
    "print(f\"Standard Deviation of Mean Squared Errors: {mse_std_b}\")\n",
    "\n"
   ]
  },
  {
   "cell_type": "markdown",
   "id": "35deec85-1b30-4ac6-8195-ae95b5e32fef",
   "metadata": {},
   "source": [
    "### **Observation**\n",
    "Normally, using normalised data results in more accurate model with lower mean squared error. But here, using Z-score normalization has increased the Mean of mean squared error when compared to the model in Step A in which normalization of data is not done."
   ]
  },
  {
   "cell_type": "markdown",
   "id": "ffa9e88d-4e5e-4753-a4ad-dc46c9e99121",
   "metadata": {
    "tags": []
   },
   "source": [
    "## **C. Increate the number of epochs**\n",
    "\n",
    "Repeat Part B but use 100 epochs this time for training."
   ]
  },
  {
   "cell_type": "code",
   "execution_count": 18,
   "id": "88d89ecf-1a4b-4562-bf67-3d8fec2dba08",
   "metadata": {
    "tags": []
   },
   "outputs": [
    {
     "name": "stdout",
     "output_type": "stream",
     "text": [
      "10/10 [==============================] - 0s 696us/step\n",
      "10/10 [==============================] - 0s 720us/step\n",
      "10/10 [==============================] - 0s 636us/step\n",
      "10/10 [==============================] - 0s 676us/step\n",
      "10/10 [==============================] - 0s 643us/step\n",
      "10/10 [==============================] - 0s 661us/step\n",
      "10/10 [==============================] - 0s 605us/step\n",
      "10/10 [==============================] - 0s 697us/step\n",
      "10/10 [==============================] - 0s 680us/step\n",
      "10/10 [==============================] - 0s 599us/step\n",
      "10/10 [==============================] - 0s 633us/step\n",
      "10/10 [==============================] - 0s 619us/step\n",
      "10/10 [==============================] - 0s 599us/step\n",
      "10/10 [==============================] - 0s 581us/step\n",
      "10/10 [==============================] - 0s 584us/step\n",
      "10/10 [==============================] - 0s 742us/step\n",
      "10/10 [==============================] - 0s 628us/step\n",
      "10/10 [==============================] - 0s 603us/step\n",
      "10/10 [==============================] - 0s 628us/step\n",
      "10/10 [==============================] - 0s 600us/step\n",
      "10/10 [==============================] - 0s 649us/step\n",
      "10/10 [==============================] - 0s 615us/step\n",
      "10/10 [==============================] - 0s 642us/step\n",
      "10/10 [==============================] - 0s 588us/step\n",
      "10/10 [==============================] - 0s 627us/step\n",
      "10/10 [==============================] - 0s 620us/step\n",
      "10/10 [==============================] - 0s 648us/step\n",
      "10/10 [==============================] - 0s 660us/step\n",
      "10/10 [==============================] - 0s 624us/step\n",
      "10/10 [==============================] - 0s 635us/step\n",
      "10/10 [==============================] - 0s 750us/step\n",
      "10/10 [==============================] - 0s 644us/step\n",
      "10/10 [==============================] - 0s 738us/step\n",
      "10/10 [==============================] - 0s 721us/step\n",
      "10/10 [==============================] - 0s 633us/step\n",
      "10/10 [==============================] - 0s 645us/step\n",
      "10/10 [==============================] - 0s 674us/step\n",
      "10/10 [==============================] - 0s 649us/step\n",
      "10/10 [==============================] - 0s 636us/step\n",
      "10/10 [==============================] - 0s 750us/step\n",
      "10/10 [==============================] - 0s 605us/step\n",
      "10/10 [==============================] - 0s 637us/step\n",
      "10/10 [==============================] - 0s 702us/step\n",
      "10/10 [==============================] - 0s 833us/step\n",
      "10/10 [==============================] - 0s 741us/step\n",
      "10/10 [==============================] - 0s 606us/step\n",
      "10/10 [==============================] - 0s 778us/step\n",
      "10/10 [==============================] - 0s 823us/step\n",
      "10/10 [==============================] - 0s 653us/step\n",
      "10/10 [==============================] - 0s 698us/step\n"
     ]
    }
   ],
   "source": [
    "#train model with 100 epochs\n",
    "mse_list_c = []\n",
    "\n",
    "# repeat 50 times and calculate mean squared error\n",
    "for i in range(50):\n",
    "    # randomly split the Normalised data to training and testing data\n",
    "    X_train, X_test, y_train, y_test = train_test_split(predictors_norm, target, test_size=0.3, random_state=2)\n",
    "    \n",
    "    #initialise model\n",
    "    model = regression_model()\n",
    "    \n",
    "    # fit the model with epoch = 100\n",
    "    model.fit(X_train, y_train, validation_split=0.3, epochs=100, verbose=0)\n",
    "    \n",
    "    # prediction\n",
    "    predictions = model.predict(X_test)\n",
    "\n",
    "    #calculate mean squared error\n",
    "    from sklearn.metrics import mean_squared_error\n",
    "    mse = mean_squared_error(y_test, predictions)\n",
    "    \n",
    "    mse_list_c.append(mse)\n"
   ]
  },
  {
   "cell_type": "markdown",
   "id": "3fbcc957-c18b-4c89-ba4a-97d3ab7a099b",
   "metadata": {},
   "source": [
    "### **How does the mean of the mean squared errors compare to that from Step B?**"
   ]
  },
  {
   "cell_type": "code",
   "execution_count": 19,
   "id": "2b8bbca1-7a43-46d1-aff0-f03325600430",
   "metadata": {
    "tags": []
   },
   "outputs": [
    {
     "name": "stdout",
     "output_type": "stream",
     "text": [
      "Mean of MSE in step B : 680.4988446823548\n",
      "Mean of MSE in step C (epochs = 100) : 227.66556219801848\n",
      "Standard Deviation of Mean Squared Errors in step C: 227.66556219801848\n"
     ]
    }
   ],
   "source": [
    "# Mean and Standard Deviation of Mean Squared Errors\n",
    "mse_mean_c = np.mean(mse_list_c)\n",
    "mse_std_c = np.mean(mse_list_c)\n",
    "\n",
    "print(f\"Mean of MSE in step B : {mse_mean_b}\")\n",
    "print(f\"Mean of MSE in step C (epochs = 100) : {mse_mean_c}\")\n",
    "\n",
    "print(f\"Standard Deviation of Mean Squared Errors in step C: {mse_std_c}\")"
   ]
  },
  {
   "cell_type": "markdown",
   "id": "9c8f2cb2",
   "metadata": {
    "tags": []
   },
   "source": [
    "### **Observation**\n",
    "\n",
    "Mean of mean squared error in STEP C (with epoch = 100) is nearly 3 times lower than Mean of Mean squared error in STEP B( epoch = 50). This indicates that a increase in number of iterations or epochs can significantly reduce the error and hence improve the accuracy of the model."
   ]
  },
  {
   "cell_type": "markdown",
   "id": "db8a19ac-bb40-4adb-987c-14a1ab5666de",
   "metadata": {},
   "source": [
    "## **D. Increase the number of hidden layers**\n",
    "\n",
    "Repeat part B but use a neural network with the following instead:\n",
    "\n",
    "- Three hidden layers, each of 10 nodes and ReLU activation function."
   ]
  },
  {
   "cell_type": "code",
   "execution_count": 20,
   "id": "65ef15dc-ff2e-4cca-91b8-a1c8d6811d4b",
   "metadata": {
    "tags": []
   },
   "outputs": [],
   "source": [
    "# Initiallise model with three hidden layers of 10 noded\n",
    "model_2 = Sequential()\n",
    "\n",
    "n_cols = predictors_norm.shape[1]\n",
    "\n",
    "# add dohidden layers\n",
    "model_2.add(Dense(10, activation='relu', input_shape=(n_cols,)))\n",
    "model_2.add(Dense(10, activation='relu', input_shape=(n_cols,)))\n",
    "model_2.add(Dense(10, activation='relu', input_shape=(n_cols,)))\n",
    "\n",
    "# Output layer\n",
    "model_2.add(Dense(1))\n",
    "\n",
    "#compile model\n",
    "model_2.compile(optimizer='adam', loss='mean_squared_error')\n",
    "\n"
   ]
  },
  {
   "cell_type": "code",
   "execution_count": 21,
   "id": "78711aca-f0f4-4f6a-856b-491969b20928",
   "metadata": {
    "tags": []
   },
   "outputs": [
    {
     "name": "stdout",
     "output_type": "stream",
     "text": [
      "10/10 [==============================] - 0s 720us/step\n",
      "10/10 [==============================] - 0s 635us/step\n",
      "10/10 [==============================] - 0s 709us/step\n",
      "10/10 [==============================] - 0s 759us/step\n",
      "10/10 [==============================] - 0s 685us/step\n",
      "10/10 [==============================] - 0s 672us/step\n",
      "10/10 [==============================] - 0s 731us/step\n",
      "10/10 [==============================] - 0s 778us/step\n",
      "10/10 [==============================] - 0s 667us/step\n",
      "10/10 [==============================] - 0s 726us/step\n",
      "10/10 [==============================] - 0s 667us/step\n",
      "10/10 [==============================] - 0s 798us/step\n",
      "10/10 [==============================] - 0s 760us/step\n",
      "10/10 [==============================] - 0s 785us/step\n",
      "10/10 [==============================] - 0s 621us/step\n",
      "10/10 [==============================] - 0s 610us/step\n",
      "10/10 [==============================] - 0s 696us/step\n",
      "10/10 [==============================] - 0s 652us/step\n",
      "10/10 [==============================] - 0s 603us/step\n",
      "10/10 [==============================] - 0s 709us/step\n",
      "10/10 [==============================] - 0s 756us/step\n",
      "10/10 [==============================] - 0s 683us/step\n",
      "10/10 [==============================] - 0s 688us/step\n",
      "10/10 [==============================] - 0s 663us/step\n",
      "10/10 [==============================] - 0s 611us/step\n",
      "10/10 [==============================] - 0s 706us/step\n",
      "10/10 [==============================] - 0s 815us/step\n",
      "10/10 [==============================] - 0s 736us/step\n",
      "10/10 [==============================] - 0s 722us/step\n",
      "10/10 [==============================] - 0s 736us/step\n",
      "10/10 [==============================] - 0s 661us/step\n",
      "10/10 [==============================] - 0s 660us/step\n",
      "10/10 [==============================] - 0s 615us/step\n",
      "10/10 [==============================] - 0s 666us/step\n",
      "10/10 [==============================] - 0s 622us/step\n",
      "10/10 [==============================] - 0s 719us/step\n",
      "10/10 [==============================] - 0s 671us/step\n",
      "10/10 [==============================] - 0s 667us/step\n",
      "10/10 [==============================] - 0s 647us/step\n",
      "10/10 [==============================] - 0s 662us/step\n",
      "10/10 [==============================] - 0s 689us/step\n",
      "10/10 [==============================] - 0s 594us/step\n",
      "10/10 [==============================] - 0s 701us/step\n",
      "10/10 [==============================] - 0s 682us/step\n",
      "10/10 [==============================] - 0s 667us/step\n",
      "10/10 [==============================] - 0s 679us/step\n",
      "10/10 [==============================] - 0s 620us/step\n",
      "10/10 [==============================] - 0s 728us/step\n",
      "10/10 [==============================] - 0s 651us/step\n",
      "10/10 [==============================] - 0s 635us/step\n"
     ]
    }
   ],
   "source": [
    "#train model with 50 epochs\n",
    "mse_list_d = []\n",
    "\n",
    "# repeat 50 times and calculate mean squared error\n",
    "for i in range(50):\n",
    "    # randomly split the Normalised data to training and testing data\n",
    "    X_train, X_test, y_train, y_test = train_test_split(predictors_norm, target, test_size=0.3, random_state=2)\n",
    "    \n",
    "    \n",
    "    # fit the model with epoch\n",
    "    model_2.fit(X_train, y_train, validation_split=0.3, epochs=50, verbose=0)\n",
    "    \n",
    "    # prediction\n",
    "    predictions = model_2.predict(X_test)\n",
    "\n",
    "    #calculate mean squared error\n",
    "    from sklearn.metrics import mean_squared_error\n",
    "    mse = mean_squared_error(y_test, predictions)\n",
    "    \n",
    "    mse_list_d.append(mse)"
   ]
  },
  {
   "cell_type": "markdown",
   "id": "749cbc31-a6bf-46e2-8781-00508cdd9486",
   "metadata": {
    "tags": []
   },
   "source": [
    "### **How does the mean of the mean squared errors compare to that from Step B?**"
   ]
  },
  {
   "cell_type": "code",
   "execution_count": 22,
   "id": "2762599e-dd9b-4ec2-bc76-0d8a82e7329a",
   "metadata": {},
   "outputs": [
    {
     "name": "stdout",
     "output_type": "stream",
     "text": [
      "Mean of MSE in step B : 680.4988446823548\n",
      "Mean of MSE in step D : 40.492097731946316\n",
      "Standard Deviation of MSE in step D: 14.147629808691628\n"
     ]
    }
   ],
   "source": [
    "# Find Mean of Mean Squared Errors\n",
    "mse_mean_d = np.mean(mse_list_d)\n",
    "mse_std_d = np.std(mse_list_d)\n",
    "\n",
    "print(f\"Mean of MSE in step B : {mse_mean_b}\")\n",
    "print(f\"Mean of MSE in step D : {mse_mean_d}\")\n",
    "\n",
    "print(f\"Standard Deviation of MSE in step D: {mse_std_d}\")"
   ]
  },
  {
   "cell_type": "markdown",
   "id": "081cdb4f-68c7-4477-9667-cd5bef284163",
   "metadata": {},
   "source": [
    "### **Observation**\n",
    "**Mean of mean sqaured errors of Step B with one hidden layer is 17 times that of step D with 3 hidden layers**. \n",
    "This indicates that increase in number of hidden layers of neurons has a very high impact in accuracy of the model. This is clearly visible form the above observation."
   ]
  }
 ],
 "metadata": {
  "kernelspec": {
   "display_name": "Python 3 (ipykernel)",
   "language": "python",
   "name": "python3"
  },
  "language_info": {
   "codemirror_mode": {
    "name": "ipython",
    "version": 3
   },
   "file_extension": ".py",
   "mimetype": "text/x-python",
   "name": "python",
   "nbconvert_exporter": "python",
   "pygments_lexer": "ipython3",
   "version": "3.11.5"
  }
 },
 "nbformat": 4,
 "nbformat_minor": 5
}
